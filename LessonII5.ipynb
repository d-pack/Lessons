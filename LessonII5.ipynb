{
 "cells": [
  {
   "cell_type": "markdown",
   "metadata": {
    "slideshow": {
     "slide_type": "slide"
    }
   },
   "source": [
    "# Рекуррентные нейронные сети"
   ]
  },
  {
   "cell_type": "markdown",
   "metadata": {
    "slideshow": {
     "slide_type": "slide"
    }
   },
   "source": [
    "# Векторизация слов"
   ]
  },
  {
   "cell_type": "code",
   "execution_count": 1,
   "metadata": {
    "slideshow": {
     "slide_type": "subslide"
    }
   },
   "outputs": [
    {
     "name": "stdout",
     "output_type": "stream",
     "text": [
      "Модель для N-грамм от 1 до 1 слова\n",
      "[[1 1 1 1]\n",
      " [1 1 1 1]]\n",
      "{'он': 2, 'не': 1, 'делает': 0, 'работу': 3}\n",
      "\n",
      "Модель для N-грамм от 1 до 2 слов\n",
      "[[1 1 1 1 0 1 0 1 1]\n",
      " [1 1 1 0 1 1 1 0 1]]\n",
      "{'он': 5, 'не': 2, 'делает': 0, 'работу': 8, 'он не': 7, 'не делает': 3, 'делает работу': 1, 'не он': 4, 'он делает': 6}\n"
     ]
    }
   ],
   "source": [
    "# N-граммы (комбинации из N последовательных терминов)\n",
    "from sklearn.feature_extraction.text import CountVectorizer\n",
    "\n",
    "print(\"Модель для N-грамм от 1 до 1 слова\")  # bag of words\n",
    "vect = CountVectorizer(ngram_range=(1, 1)) \n",
    "res = vect.fit_transform(['он не делает работу', 'не он делает работу']).toarray()\n",
    "print(res)\n",
    "print(vect.vocabulary_)\n",
    "\n",
    "print()\n",
    "print(\"Модель для N-грамм от 1 до 2 слов\")\n",
    "vect = CountVectorizer(ngram_range=(1, 2)) \n",
    "res = vect.fit_transform(['он не делает работу', 'не он делает работу']).toarray()\n",
    "print(res)\n",
    "print(vect.vocabulary_)"
   ]
  },
  {
   "cell_type": "markdown",
   "metadata": {
    "slideshow": {
     "slide_type": "subslide"
    }
   },
   "source": [
    "### Word2Vec\n",
    "![alt text](https://miro.medium.com/max/1014/1*dm9dudL37B6JG8saeR3zIw.png \"W2V\")"
   ]
  },
  {
   "cell_type": "code",
   "execution_count": 11,
   "metadata": {
    "slideshow": {
     "slide_type": "subslide"
    }
   },
   "outputs": [],
   "source": [
    "import codecs\n",
    "import numpy as np\n",
    "import gensim"
   ]
  },
  {
   "cell_type": "code",
   "execution_count": 79,
   "metadata": {},
   "outputs": [
    {
     "name": "stdout",
     "output_type": "stream",
     "text": [
      "13598 предожений\n"
     ]
    }
   ],
   "source": [
    "with codecs.open('data/LOTR.txt', encoding='utf-8', mode='r') as f:\n",
    "    docs = f.readlines()\n",
    "    \n",
    "max_sentence_len = 12\n",
    "\n",
    "sentences = [sent for doc in docs for sent in doc.split('.')]\n",
    "sentences = [[word for word in sent.lower().split()[:max_sentence_len]] for sent in sentences]\n",
    "print(len(sentences), 'предложений')"
   ]
  },
  {
   "cell_type": "code",
   "execution_count": 45,
   "metadata": {
    "slideshow": {
     "slide_type": "subslide"
    }
   },
   "outputs": [],
   "source": [
    "# Обучение модели\n",
    "word_model = gensim.models.Word2Vec(sentences, size=100, min_count=1, window=5, iter=100)"
   ]
  },
  {
   "cell_type": "code",
   "execution_count": 47,
   "metadata": {},
   "outputs": [
    {
     "name": "stdout",
     "output_type": "stream",
     "text": [
      "24681 100\n"
     ]
    }
   ],
   "source": [
    "pretrained_weights = word_model.wv.syn0\n",
    "vocab_size, embedding_size = pretrained_weights.shape\n",
    "print(vocab_size, embedding_size)"
   ]
  },
  {
   "cell_type": "code",
   "execution_count": 52,
   "metadata": {
    "slideshow": {
     "slide_type": "subslide"
    }
   },
   "outputs": [
    {
     "name": "stdout",
     "output_type": "stream",
     "text": [
      "Похожие слова:\n",
      "  хоббит -> горлума? (0.67), гондорец (0.65), бильбо, (0.59), маг (0.58), бродяжник, (0.58), сэм, (0.57), спутникам, (0.57), гимли (0.57)\n",
      "  кольцо -> другое (0.57), недостает, (0.56), оно (0.54), всевластья (0.51), представляется (0.50), воинство (0.50), кольцо, (0.48), кольцу (0.48)\n",
      "  гном -> гимли (0.73), гондорец (0.70), ошеломленный (0.69), бирюк (0.69), маг, (0.67), боромир (0.66), дарина! (0.65), горислав (0.65)\n",
      "  эльф -> хэлдар (0.78), гондорец (0.74), по-эльфийски, (0.72), «гэндальф! (0.71), носом (0.71), мордора! (0.70), коню (0.70), отворить, (0.69)\n",
      "  лук -> лихолесского (0.94), лориэнский (0.94), эльфа! (0.94), дожевав (0.93), благословен (0.88), упруг (0.86), хопкин-бобкин, (0.82), элендил, (0.81)\n"
     ]
    }
   ],
   "source": [
    "print('Похожие слова:')\n",
    "for word in ['хоббит', 'кольцо', 'гном', 'эльф', 'лук']:\n",
    "    most_similar = ', '.join('%s (%.2f)' % (similar, dist) for similar, dist in word_model.wv.most_similar(word)[:8])\n",
    "    print('  %s -> %s' % (word, most_similar))\n"
   ]
  },
  {
   "cell_type": "code",
   "execution_count": 51,
   "metadata": {
    "slideshow": {
     "slide_type": "subslide"
    }
   },
   "outputs": [
    {
     "data": {
      "text/plain": [
       "array([ 1.4920405 ,  0.3855237 , -2.1392462 ,  1.6713449 ,  2.076249  ,\n",
       "        0.24096918, -1.0232087 ,  1.6717471 , -0.9787734 , -1.2110564 ,\n",
       "       -0.24157877,  1.3178241 , -0.6365279 , -0.9205003 ,  2.100536  ,\n",
       "        0.12447252,  1.1303604 , -0.37761056, -1.9567635 , -1.042313  ,\n",
       "       -1.0693281 ,  0.39517692,  0.09959457,  0.07394334, -0.0322785 ,\n",
       "        0.96153355, -0.93003166, -0.5966073 ,  1.4453518 ,  0.21228427,\n",
       "       -0.86422783,  0.29630557, -0.50275165,  0.43376654, -0.16708575,\n",
       "       -2.0124283 ,  1.6950493 ,  2.5790198 ,  0.7920905 ,  2.0803225 ,\n",
       "        0.92059624,  0.1692214 ,  1.438246  ,  1.093751  , -0.629431  ,\n",
       "        1.5013747 ,  0.35440475, -0.99809   , -0.29649833, -1.0948515 ,\n",
       "        1.8772261 ,  0.48367494, -0.17703338, -0.5097192 ,  1.6049448 ,\n",
       "        1.8505365 ,  1.9792376 ,  0.00394805,  1.443503  ,  0.5531206 ,\n",
       "        0.27404526,  0.6261111 ,  1.5988548 , -0.5643878 , -0.6396273 ,\n",
       "       -0.70211333,  0.21090426,  0.881619  ,  1.3347114 , -0.81313866,\n",
       "        0.9451234 , -0.55156237,  0.16172506, -1.058579  , -0.21224062,\n",
       "        0.10320344,  0.3443041 , -1.3860737 ,  0.37131464,  0.32129505,\n",
       "       -0.54975843, -1.073246  , -1.4167166 , -1.763418  ,  0.98476034,\n",
       "       -0.19235449,  0.4858428 ,  0.85763645,  0.9705493 ,  0.6104786 ,\n",
       "        0.8499049 ,  1.5897483 ,  0.47834682, -0.29817703,  0.5047057 ,\n",
       "        1.1952504 , -1.6282395 , -1.744008  ,  2.0948386 , -1.2528886 ],\n",
       "      dtype=float32)"
      ]
     },
     "execution_count": 51,
     "metadata": {},
     "output_type": "execute_result"
    }
   ],
   "source": [
    "# Получение вектора\n",
    "word_model.wv.word_vec('хоббит')"
   ]
  },
  {
   "cell_type": "code",
   "execution_count": 82,
   "metadata": {
    "slideshow": {
     "slide_type": "subslide"
    }
   },
   "outputs": [
    {
     "data": {
      "text/plain": [
       "[('сопротивление,', 0.4040951132774353),\n",
       " ('отчаянное', 0.40066424012184143),\n",
       " ('свернул;', 0.3840741515159607),\n",
       " ('ляжет', 0.375370591878891),\n",
       " ('попадались', 0.3720041513442993),\n",
       " ('оборвалось', 0.36449873447418213),\n",
       " ('новая', 0.3572019040584564),\n",
       " ('договорились,', 0.3403235673904419),\n",
       " ('обращаясь', 0.33938926458358765),\n",
       " ('здоровье»', 0.3366469144821167)]"
      ]
     },
     "execution_count": 82,
     "metadata": {},
     "output_type": "execute_result"
    }
   ],
   "source": [
    "vec = word_model.wv.word_vec('гном') - word_model.wv.word_vec('хоббит')\n",
    "word_model.wv.similar_by_vector(vec)"
   ]
  },
  {
   "cell_type": "markdown",
   "metadata": {
    "slideshow": {
     "slide_type": "slide"
    }
   },
   "source": [
    "# RNN\n",
    "Рекуррентные нейронные сети (RNN) — вид нейронных сетей, где связи между элементами образуют направленную последовательность. Благодаря этому появляется возможность обрабатывать серии событий во времени или последовательные пространственные цепочки. В отличие от многослойных перцептронов, рекуррентные сети могут использовать свою внутреннюю память для обработки последовательностей произвольной длины. Поэтому сети RNN применимы в таких задачах, где нечто целостное разбито на части, например: распознавание рукописного текста или распознавание речи. \n",
    "<img src=\"https://habrastorage.org/web/5c8/0fa/c22/5c80fac224d449209d888d18ea1111a8.png\" alt=\"RNN\">"
   ]
  },
  {
   "cell_type": "markdown",
   "metadata": {
    "slideshow": {
     "slide_type": "subslide"
    }
   },
   "source": [
    "## Внутреннее устройство простых RNN\n",
    "Входной вектор и вектор внутренней памяти объединяются и отправляются на полносвязный слой с функцией активации *tanh*\n",
    "<img src=\"https://habrastorage.org/web/47d/ee6/2c3/47dee62c3af8498c946befa1f3330d90.png\"  alt=\"RNN In\"  height=70% width=70%>\n",
    "\n",
    "$$h_t = tanh(w * [h_{t-1}; x_t])$$"
   ]
  },
  {
   "cell_type": "markdown",
   "metadata": {
    "slideshow": {
     "slide_type": "subslide"
    }
   },
   "source": [
    "## Виды RNN\n",
    "<img src=\"images/II5/rnns.jpg\"  alt=\"RNN In\"  height=70% width=70%>"
   ]
  },
  {
   "cell_type": "markdown",
   "metadata": {
    "slideshow": {
     "slide_type": "subslide"
    }
   },
   "source": [
    "### Many to many (Генерация текста)\n",
    "<img src=\"images/II5/rnn_m2m.jpeg\"  alt=\"RNN In\"  height=50% width=50%>"
   ]
  },
  {
   "cell_type": "markdown",
   "metadata": {
    "slideshow": {
     "slide_type": "subslide"
    }
   },
   "source": [
    "### One to many (Подпись изображений)\n",
    "<img src=\"images/II5/rnn_o2m.png\"  alt=\"RNN In\"  height=70% width=70%>\n",
    "Началом и концом предложения являются специальные слова: $<start>$ $<end>$"
   ]
  },
  {
   "cell_type": "markdown",
   "metadata": {
    "slideshow": {
     "slide_type": "slide"
    }
   },
   "source": [
    "# LSTM\n",
    "Долгая краткосрочная память (Long short-term memory; LSTM) – особая разновидность архитектуры рекуррентных нейронных сетей, способная к обучению долговременным зависимостям.\n",
    "<img src=\"https://habrastorage.org/web/67b/04f/73b/67b04f73b4c34ba38edfa207e09de07c.png\" alt=\"LSTM\">\n",
    "* «вентиль забывания» контролирует меру сохранения значения в памяти\n",
    "* «входной вентиль» контролирует меру вхождения нового значения в память\n",
    "* «выходной вентиль» контролирует меру того, в какой степени значение, находящееся в памяти, используется при расчёте выходной функции активации для блока"
   ]
  },
  {
   "cell_type": "markdown",
   "metadata": {
    "slideshow": {
     "slide_type": "subslide"
    }
   },
   "source": [
    "### «Вентиль забывания»\n",
    "<img src=\"https://habrastorage.org/web/a5f/31a/104/a5f31a104b184217aca105de9ab6d320.png\">"
   ]
  },
  {
   "cell_type": "markdown",
   "metadata": {
    "slideshow": {
     "slide_type": "subslide"
    }
   },
   "source": [
    "### «Входной вентиль»\n",
    "<img src=\"https://habrastorage.org/web/248/bf4/a75/248bf4a75ab74bf180b9c0e2e2cc5a58.png\">"
   ]
  },
  {
   "cell_type": "markdown",
   "metadata": {
    "slideshow": {
     "slide_type": "subslide"
    }
   },
   "source": [
    "### «Выходной вентиль»\n",
    "<img src=\"https://habrastorage.org/web/16d/5b5/783/16d5b5783ba34244afcf0f240133fb28.png\">"
   ]
  },
  {
   "cell_type": "markdown",
   "metadata": {
    "slideshow": {
     "slide_type": "subslide"
    }
   },
   "source": [
    "# GRU\n",
    "Управляемые рекуррентные блоки (Gated Recurrent Units, GRU) — механизм вентилей для рекуррентных нейронных сетей, представленный в 2014 году. Было установлено, что его эффективность при решении задач моделирования музыкальных и речевых сигналов сопоставима с использованием долгой краткосрочной памяти (LSTM). По сравнению с LSTM у данного механизма меньше параметров, т.к. отсутствует выходной вентиль.\n",
    "<img src=\"https://www.data-blogger.com/wp-content/uploads/2017/08/gru.png\" alt=\"GRU\">"
   ]
  },
  {
   "cell_type": "markdown",
   "metadata": {
    "slideshow": {
     "slide_type": "slide"
    }
   },
   "source": [
    "# Архитектуры LSTM\n",
    "### Объединение нескольких RNN\n",
    "<img src=\"images/II5/rnn_arch.png\"  height=50% width=50%>"
   ]
  },
  {
   "cell_type": "markdown",
   "metadata": {
    "slideshow": {
     "slide_type": "subslide"
    }
   },
   "source": [
    "### Двунаправленные\n",
    "<img src=\"images/II5/rnn_bi.jpg\"  height=70% width=70%>"
   ]
  },
  {
   "cell_type": "markdown",
   "metadata": {
    "slideshow": {
     "slide_type": "subslide"
    }
   },
   "source": [
    "### Seq2Seq\n",
    "<img src=\"images/II5/seq2seq.png\"  height=70% width=70%>"
   ]
  },
  {
   "cell_type": "markdown",
   "metadata": {
    "slideshow": {
     "slide_type": "subslide"
    }
   },
   "source": [
    "### Архитектура Google’s Neural Machine Translation\n",
    "<img src=\"images/II5/rnn_ggle.png\"  height=100% width=100%>"
   ]
  },
  {
   "cell_type": "markdown",
   "metadata": {
    "slideshow": {
     "slide_type": "slide"
    }
   },
   "source": [
    "# Механизм внимания (Attention)\n",
    "<img src=\"images/II5/rnn_att.png\"  height=30% width=30%>\n"
   ]
  },
  {
   "cell_type": "markdown",
   "metadata": {
    "slideshow": {
     "slide_type": "subslide"
    }
   },
   "source": [
    "<img src=\"images/II5/att1.jpeg\"  height=90% width=90%>\n",
    "<img src=\"images/II5/att2.jpeg\"  height=90% width=90%>"
   ]
  },
  {
   "cell_type": "markdown",
   "metadata": {
    "slideshow": {
     "slide_type": "subslide"
    }
   },
   "source": [
    "### Результат\n",
    "<img src=\"images/II5/map_att.png\"  height=70% width=70%>"
   ]
  },
  {
   "cell_type": "markdown",
   "metadata": {
    "slideshow": {
     "slide_type": "slide"
    }
   },
   "source": [
    "# Пример"
   ]
  },
  {
   "cell_type": "code",
   "execution_count": 84,
   "metadata": {},
   "outputs": [
    {
     "data": {
      "text/html": [
       "<div>\n",
       "<style scoped>\n",
       "    .dataframe tbody tr th:only-of-type {\n",
       "        vertical-align: middle;\n",
       "    }\n",
       "\n",
       "    .dataframe tbody tr th {\n",
       "        vertical-align: top;\n",
       "    }\n",
       "\n",
       "    .dataframe thead th {\n",
       "        text-align: right;\n",
       "    }\n",
       "</style>\n",
       "<table border=\"1\" class=\"dataframe\">\n",
       "  <thead>\n",
       "    <tr style=\"text-align: right;\">\n",
       "      <th></th>\n",
       "      <th>API</th>\n",
       "      <th>Year</th>\n",
       "      <th>Month</th>\n",
       "      <th>Liquid</th>\n",
       "      <th>Gas</th>\n",
       "      <th>RatioGasOil</th>\n",
       "      <th>Water</th>\n",
       "      <th>PercentWater</th>\n",
       "      <th>DaysOn</th>\n",
       "      <th>_LastUpdate</th>\n",
       "    </tr>\n",
       "  </thead>\n",
       "  <tbody>\n",
       "    <tr>\n",
       "      <th>0</th>\n",
       "      <td>5005072170100</td>\n",
       "      <td>2014</td>\n",
       "      <td>11</td>\n",
       "      <td>9783</td>\n",
       "      <td>11470</td>\n",
       "      <td>1.172442</td>\n",
       "      <td>10558</td>\n",
       "      <td>1.079219</td>\n",
       "      <td>14</td>\n",
       "      <td>2016-04-06 17:20:05.757</td>\n",
       "    </tr>\n",
       "    <tr>\n",
       "      <th>1</th>\n",
       "      <td>5005072170100</td>\n",
       "      <td>2014</td>\n",
       "      <td>12</td>\n",
       "      <td>24206</td>\n",
       "      <td>26476</td>\n",
       "      <td>1.093778</td>\n",
       "      <td>5719</td>\n",
       "      <td>0.236264</td>\n",
       "      <td>31</td>\n",
       "      <td>2016-04-06 17:20:05.757</td>\n",
       "    </tr>\n",
       "    <tr>\n",
       "      <th>2</th>\n",
       "      <td>5005072170100</td>\n",
       "      <td>2015</td>\n",
       "      <td>1</td>\n",
       "      <td>20449</td>\n",
       "      <td>26381</td>\n",
       "      <td>1.290088</td>\n",
       "      <td>2196</td>\n",
       "      <td>0.107389</td>\n",
       "      <td>31</td>\n",
       "      <td>2016-04-06 17:20:05.757</td>\n",
       "    </tr>\n",
       "    <tr>\n",
       "      <th>3</th>\n",
       "      <td>5005072170100</td>\n",
       "      <td>2015</td>\n",
       "      <td>2</td>\n",
       "      <td>6820</td>\n",
       "      <td>10390</td>\n",
       "      <td>1.523460</td>\n",
       "      <td>583</td>\n",
       "      <td>0.085484</td>\n",
       "      <td>28</td>\n",
       "      <td>2016-04-06 17:20:05.757</td>\n",
       "    </tr>\n",
       "    <tr>\n",
       "      <th>4</th>\n",
       "      <td>5005072170100</td>\n",
       "      <td>2015</td>\n",
       "      <td>3</td>\n",
       "      <td>7349</td>\n",
       "      <td>7005</td>\n",
       "      <td>0.953191</td>\n",
       "      <td>122</td>\n",
       "      <td>0.016601</td>\n",
       "      <td>13</td>\n",
       "      <td>2016-06-16 14:07:33.203</td>\n",
       "    </tr>\n",
       "  </tbody>\n",
       "</table>\n",
       "</div>"
      ],
      "text/plain": [
       "             API  Year  Month  Liquid    Gas  RatioGasOil  Water  \\\n",
       "0  5005072170100  2014     11    9783  11470     1.172442  10558   \n",
       "1  5005072170100  2014     12   24206  26476     1.093778   5719   \n",
       "2  5005072170100  2015      1   20449  26381     1.290088   2196   \n",
       "3  5005072170100  2015      2    6820  10390     1.523460    583   \n",
       "4  5005072170100  2015      3    7349   7005     0.953191    122   \n",
       "\n",
       "   PercentWater  DaysOn              _LastUpdate  \n",
       "0      1.079219      14  2016-04-06 17:20:05.757  \n",
       "1      0.236264      31  2016-04-06 17:20:05.757  \n",
       "2      0.107389      31  2016-04-06 17:20:05.757  \n",
       "3      0.085484      28  2016-04-06 17:20:05.757  \n",
       "4      0.016601      13  2016-06-16 14:07:33.203  "
      ]
     },
     "execution_count": 84,
     "metadata": {},
     "output_type": "execute_result"
    }
   ],
   "source": [
    "import pandas as pd\n",
    "from keras.layers import Dense, LSTM, Input\n",
    "from keras.models import Model\n",
    "\n",
    "df = pd.read_csv('./data/production.csv')\n",
    "df.head()"
   ]
  },
  {
   "cell_type": "code",
   "execution_count": 97,
   "metadata": {
    "slideshow": {
     "slide_type": "subslide"
    }
   },
   "outputs": [
    {
     "data": {
      "text/plain": [
       "API             \n",
       "5005072170100  0     9783\n",
       "               1    24206\n",
       "               2    20449\n",
       "               3     6820\n",
       "               4     7349\n",
       "Name: Liquid, dtype: int64"
      ]
     },
     "execution_count": 97,
     "metadata": {},
     "output_type": "execute_result"
    }
   ],
   "source": [
    "# Подготовка данных по добыче\n",
    "liquid = df.groupby('API')['Liquid'].apply(lambda df_: df_.reset_index(drop=True))\n",
    "liquid.head()"
   ]
  },
  {
   "cell_type": "code",
   "execution_count": 98,
   "metadata": {
    "slideshow": {
     "slide_type": "subslide"
    }
   },
   "outputs": [
    {
     "data": {
      "text/html": [
       "<div>\n",
       "<style scoped>\n",
       "    .dataframe tbody tr th:only-of-type {\n",
       "        vertical-align: middle;\n",
       "    }\n",
       "\n",
       "    .dataframe tbody tr th {\n",
       "        vertical-align: top;\n",
       "    }\n",
       "\n",
       "    .dataframe thead th {\n",
       "        text-align: right;\n",
       "    }\n",
       "</style>\n",
       "<table border=\"1\" class=\"dataframe\">\n",
       "  <thead>\n",
       "    <tr style=\"text-align: right;\">\n",
       "      <th></th>\n",
       "      <th>0</th>\n",
       "      <th>1</th>\n",
       "      <th>2</th>\n",
       "      <th>3</th>\n",
       "      <th>4</th>\n",
       "      <th>5</th>\n",
       "      <th>6</th>\n",
       "      <th>7</th>\n",
       "      <th>8</th>\n",
       "      <th>9</th>\n",
       "      <th>...</th>\n",
       "      <th>14</th>\n",
       "      <th>15</th>\n",
       "      <th>16</th>\n",
       "      <th>17</th>\n",
       "      <th>18</th>\n",
       "      <th>19</th>\n",
       "      <th>20</th>\n",
       "      <th>21</th>\n",
       "      <th>22</th>\n",
       "      <th>23</th>\n",
       "    </tr>\n",
       "    <tr>\n",
       "      <th>API</th>\n",
       "      <th></th>\n",
       "      <th></th>\n",
       "      <th></th>\n",
       "      <th></th>\n",
       "      <th></th>\n",
       "      <th></th>\n",
       "      <th></th>\n",
       "      <th></th>\n",
       "      <th></th>\n",
       "      <th></th>\n",
       "      <th></th>\n",
       "      <th></th>\n",
       "      <th></th>\n",
       "      <th></th>\n",
       "      <th></th>\n",
       "      <th></th>\n",
       "      <th></th>\n",
       "      <th></th>\n",
       "      <th></th>\n",
       "      <th></th>\n",
       "      <th></th>\n",
       "    </tr>\n",
       "  </thead>\n",
       "  <tbody>\n",
       "    <tr>\n",
       "      <th>5005072170100</th>\n",
       "      <td>9783</td>\n",
       "      <td>24206</td>\n",
       "      <td>20449</td>\n",
       "      <td>6820</td>\n",
       "      <td>7349</td>\n",
       "      <td>16552</td>\n",
       "      <td>13844</td>\n",
       "      <td>10655</td>\n",
       "      <td>6135</td>\n",
       "      <td>11105</td>\n",
       "      <td>...</td>\n",
       "      <td>6547</td>\n",
       "      <td>5117</td>\n",
       "      <td>5280</td>\n",
       "      <td>4762</td>\n",
       "      <td>4962</td>\n",
       "      <td>4478</td>\n",
       "      <td>4328</td>\n",
       "      <td>4777</td>\n",
       "      <td>3849</td>\n",
       "      <td>3835</td>\n",
       "    </tr>\n",
       "    <tr>\n",
       "      <th>5123377130000</th>\n",
       "      <td>2341</td>\n",
       "      <td>4689</td>\n",
       "      <td>3056</td>\n",
       "      <td>1979</td>\n",
       "      <td>2037</td>\n",
       "      <td>2260</td>\n",
       "      <td>1961</td>\n",
       "      <td>1549</td>\n",
       "      <td>1364</td>\n",
       "      <td>1380</td>\n",
       "      <td>...</td>\n",
       "      <td>898</td>\n",
       "      <td>787</td>\n",
       "      <td>880</td>\n",
       "      <td>879</td>\n",
       "      <td>773</td>\n",
       "      <td>737</td>\n",
       "      <td>543</td>\n",
       "      <td>732</td>\n",
       "      <td>559</td>\n",
       "      <td>633</td>\n",
       "    </tr>\n",
       "    <tr>\n",
       "      <th>5123379280000</th>\n",
       "      <td>6326</td>\n",
       "      <td>6405</td>\n",
       "      <td>6839</td>\n",
       "      <td>6584</td>\n",
       "      <td>4775</td>\n",
       "      <td>3917</td>\n",
       "      <td>3840</td>\n",
       "      <td>3031</td>\n",
       "      <td>3137</td>\n",
       "      <td>2669</td>\n",
       "      <td>...</td>\n",
       "      <td>1795</td>\n",
       "      <td>1852</td>\n",
       "      <td>1734</td>\n",
       "      <td>1588</td>\n",
       "      <td>1739</td>\n",
       "      <td>1473</td>\n",
       "      <td>1472</td>\n",
       "      <td>1378</td>\n",
       "      <td>1235</td>\n",
       "      <td>1331</td>\n",
       "    </tr>\n",
       "    <tr>\n",
       "      <th>5123379400000</th>\n",
       "      <td>8644</td>\n",
       "      <td>13977</td>\n",
       "      <td>9325</td>\n",
       "      <td>6445</td>\n",
       "      <td>5326</td>\n",
       "      <td>4538</td>\n",
       "      <td>3403</td>\n",
       "      <td>2534</td>\n",
       "      <td>2685</td>\n",
       "      <td>2597</td>\n",
       "      <td>...</td>\n",
       "      <td>1537</td>\n",
       "      <td>1331</td>\n",
       "      <td>1305</td>\n",
       "      <td>1510</td>\n",
       "      <td>1476</td>\n",
       "      <td>1729</td>\n",
       "      <td>1606</td>\n",
       "      <td>1388</td>\n",
       "      <td>1632</td>\n",
       "      <td>814</td>\n",
       "    </tr>\n",
       "    <tr>\n",
       "      <th>5123385820100</th>\n",
       "      <td>1753</td>\n",
       "      <td>4402</td>\n",
       "      <td>1187</td>\n",
       "      <td>1204</td>\n",
       "      <td>1176</td>\n",
       "      <td>1523</td>\n",
       "      <td>1169</td>\n",
       "      <td>782</td>\n",
       "      <td>634</td>\n",
       "      <td>597</td>\n",
       "      <td>...</td>\n",
       "      <td>60</td>\n",
       "      <td>0</td>\n",
       "      <td>0</td>\n",
       "      <td>0</td>\n",
       "      <td>0</td>\n",
       "      <td>0</td>\n",
       "      <td>236</td>\n",
       "      <td>830</td>\n",
       "      <td>6</td>\n",
       "      <td>571</td>\n",
       "    </tr>\n",
       "  </tbody>\n",
       "</table>\n",
       "<p>5 rows × 24 columns</p>\n",
       "</div>"
      ],
      "text/plain": [
       "                 0      1      2     3     4      5      6      7     8   \\\n",
       "API                                                                        \n",
       "5005072170100  9783  24206  20449  6820  7349  16552  13844  10655  6135   \n",
       "5123377130000  2341   4689   3056  1979  2037   2260   1961   1549  1364   \n",
       "5123379280000  6326   6405   6839  6584  4775   3917   3840   3031  3137   \n",
       "5123379400000  8644  13977   9325  6445  5326   4538   3403   2534  2685   \n",
       "5123385820100  1753   4402   1187  1204  1176   1523   1169    782   634   \n",
       "\n",
       "                  9   ...     14    15    16    17    18    19    20    21  \\\n",
       "API                   ...                                                    \n",
       "5005072170100  11105  ...   6547  5117  5280  4762  4962  4478  4328  4777   \n",
       "5123377130000   1380  ...    898   787   880   879   773   737   543   732   \n",
       "5123379280000   2669  ...   1795  1852  1734  1588  1739  1473  1472  1378   \n",
       "5123379400000   2597  ...   1537  1331  1305  1510  1476  1729  1606  1388   \n",
       "5123385820100    597  ...     60     0     0     0     0     0   236   830   \n",
       "\n",
       "                 22    23  \n",
       "API                        \n",
       "5005072170100  3849  3835  \n",
       "5123377130000   559   633  \n",
       "5123379280000  1235  1331  \n",
       "5123379400000  1632   814  \n",
       "5123385820100     6   571  \n",
       "\n",
       "[5 rows x 24 columns]"
      ]
     },
     "execution_count": 98,
     "metadata": {},
     "output_type": "execute_result"
    }
   ],
   "source": [
    "df_prod = liquid.unstack()\n",
    "df_prod.head()"
   ]
  },
  {
   "cell_type": "code",
   "execution_count": 108,
   "metadata": {
    "slideshow": {
     "slide_type": "subslide"
    }
   },
   "outputs": [
    {
     "name": "stdout",
     "output_type": "stream",
     "text": [
      "(40, 24, 1) (10, 24, 1)\n"
     ]
    }
   ],
   "source": [
    "# Масштабирование и деление на трейн/тест\n",
    "data = df_prod.values\n",
    "data = data / data.max()\n",
    "data = data[:, :, np.newaxis]\n",
    "\n",
    "data_tr = data[:40]\n",
    "data_tst = data[40:]\n",
    "print(data_tr.shape, data_tst.shape)"
   ]
  },
  {
   "cell_type": "code",
   "execution_count": 109,
   "metadata": {},
   "outputs": [
    {
     "name": "stdout",
     "output_type": "stream",
     "text": [
      "(440, 12, 1) (440, 12, 1)\n"
     ]
    }
   ],
   "source": [
    "x_data = [data_tr[:, i:i+12] for i in range(11)]\n",
    "y_data = [data_tr[:, i+1:i+13] for i in range(11)]\n",
    "\n",
    "x_data = np.concatenate(x_data, axis=0)\n",
    "y_data = np.concatenate(y_data, axis=0)\n",
    "print(x_data.shape, y_data.shape)"
   ]
  },
  {
   "cell_type": "code",
   "execution_count": 124,
   "metadata": {
    "slideshow": {
     "slide_type": "subslide"
    }
   },
   "outputs": [
    {
     "name": "stdout",
     "output_type": "stream",
     "text": [
      "_________________________________________________________________\n",
      "Layer (type)                 Output Shape              Param #   \n",
      "=================================================================\n",
      "input_5 (InputLayer)         (None, 12, 1)             0         \n",
      "_________________________________________________________________\n",
      "lstm_9 (LSTM)                (None, 12, 32)            4352      \n",
      "_________________________________________________________________\n",
      "lstm_10 (LSTM)               (None, 12, 32)            8320      \n",
      "_________________________________________________________________\n",
      "dense_5 (Dense)              (None, 12, 1)             33        \n",
      "=================================================================\n",
      "Total params: 12,705\n",
      "Trainable params: 12,705\n",
      "Non-trainable params: 0\n",
      "_________________________________________________________________\n"
     ]
    }
   ],
   "source": [
    "timesteps = 12\n",
    "inp = Input(shape=(timesteps, 1))\n",
    "lstm = LSTM(units=32, return_sequences=True)(inp)\n",
    "lstm = LSTM(units=32, return_sequences=True)(lstm)\n",
    "out = Dense(1, activation=\"relu\")(lstm)\n",
    "\n",
    "model = Model(inp, out)\n",
    "model.summary()\n",
    "model.compile(optimizer='adam', loss='mse', metrics=['mae'])"
   ]
  },
  {
   "cell_type": "code",
   "execution_count": 125,
   "metadata": {
    "slideshow": {
     "slide_type": "subslide"
    }
   },
   "outputs": [
    {
     "name": "stdout",
     "output_type": "stream",
     "text": [
      "Epoch 1/20\n",
      "440/440 [==============================] - 3s 6ms/step - loss: 0.0120 - mean_absolute_error: 0.0732\n",
      "Epoch 2/20\n",
      "440/440 [==============================] - 0s 453us/step - loss: 0.0086 - mean_absolute_error: 0.0574\n",
      "Epoch 3/20\n",
      "440/440 [==============================] - 0s 462us/step - loss: 0.0071 - mean_absolute_error: 0.0492\n",
      "Epoch 4/20\n",
      "440/440 [==============================] - 0s 453us/step - loss: 0.0062 - mean_absolute_error: 0.0457\n",
      "Epoch 5/20\n",
      "440/440 [==============================] - 0s 450us/step - loss: 0.0057 - mean_absolute_error: 0.0454\n",
      "Epoch 6/20\n",
      "440/440 [==============================] - 0s 457us/step - loss: 0.0053 - mean_absolute_error: 0.0430\n",
      "Epoch 7/20\n",
      "440/440 [==============================] - 0s 439us/step - loss: 0.0050 - mean_absolute_error: 0.0412\n",
      "Epoch 8/20\n",
      "440/440 [==============================] - 0s 448us/step - loss: 0.0048 - mean_absolute_error: 0.0395\n",
      "Epoch 9/20\n",
      "440/440 [==============================] - 0s 448us/step - loss: 0.0045 - mean_absolute_error: 0.0379\n",
      "Epoch 10/20\n",
      "440/440 [==============================] - 0s 448us/step - loss: 0.0043 - mean_absolute_error: 0.0365\n",
      "Epoch 11/20\n",
      "440/440 [==============================] - 0s 480us/step - loss: 0.0041 - mean_absolute_error: 0.0354\n",
      "Epoch 12/20\n",
      "440/440 [==============================] - 0s 478us/step - loss: 0.0039 - mean_absolute_error: 0.0344\n",
      "Epoch 13/20\n",
      "440/440 [==============================] - 0s 450us/step - loss: 0.0038 - mean_absolute_error: 0.0337\n",
      "Epoch 14/20\n",
      "440/440 [==============================] - 0s 462us/step - loss: 0.0037 - mean_absolute_error: 0.0334\n",
      "Epoch 15/20\n",
      "440/440 [==============================] - 0s 450us/step - loss: 0.0036 - mean_absolute_error: 0.0326\n",
      "Epoch 16/20\n",
      "440/440 [==============================] - 0s 453us/step - loss: 0.0035 - mean_absolute_error: 0.0319\n",
      "Epoch 17/20\n",
      "440/440 [==============================] - 0s 443us/step - loss: 0.0034 - mean_absolute_error: 0.0317\n",
      "Epoch 18/20\n",
      "440/440 [==============================] - 0s 437us/step - loss: 0.0034 - mean_absolute_error: 0.0311\n",
      "Epoch 19/20\n",
      "440/440 [==============================] - 0s 455us/step - loss: 0.0033 - mean_absolute_error: 0.0304\n",
      "Epoch 20/20\n",
      "440/440 [==============================] - 0s 464us/step - loss: 0.0032 - mean_absolute_error: 0.0303\n"
     ]
    },
    {
     "data": {
      "text/plain": [
       "<keras.callbacks.History at 0xb2887846a0>"
      ]
     },
     "execution_count": 125,
     "metadata": {},
     "output_type": "execute_result"
    }
   ],
   "source": [
    "model.fit(x_data, y_data, epochs=20)"
   ]
  },
  {
   "cell_type": "code",
   "execution_count": 143,
   "metadata": {
    "slideshow": {
     "slide_type": "subslide"
    }
   },
   "outputs": [],
   "source": [
    "# Предскажем на год вперёд используя данные только первого года\n",
    "x_tst = data_tst[:, :12]\n",
    "predicts = np.zeros((x_tst.shape[0], 0, x_tst.shape[2]))\n",
    "\n",
    "for i in range(12):\n",
    "    x = np.concatenate((x_tst[:, i:], predicts), axis=1)\n",
    "    pred = model.predict(x)\n",
    "    last_pred = pred[:, -1:]  # Нас интересует только последний месяц\n",
    "    predicts = np.concatenate((predicts, last_pred), axis=1)"
   ]
  },
  {
   "cell_type": "code",
   "execution_count": 157,
   "metadata": {
    "slideshow": {
     "slide_type": "subslide"
    }
   },
   "outputs": [
    {
     "data": {
      "image/png": "[encoded data removed]",
      "text/plain": [
       "<Figure size 720x432 with 4 Axes>"
      ]
     },
     "metadata": {},
     "output_type": "display_data"
    }
   ],
   "source": [
    "import matplotlib.pyplot as plt\n",
    "\n",
    "plt.figure(figsize=(10, 6))\n",
    "for iapi in range(4):\n",
    "    plt.subplot(2, 2, iapi+1)\n",
    "    plt.plot(np.arange(x_tst.shape[1]), x_tst[iapi, :, 0], label='Actual')\n",
    "    plt.plot(np.arange(predicts.shape[1])+x_tst.shape[1], predicts[iapi, :, 0], label='Prediction')\n",
    "    plt.legend()\n",
    "plt.show()"
   ]
  },
  {
   "cell_type": "markdown",
   "metadata": {
    "slideshow": {
     "slide_type": "slide"
    }
   },
   "source": [
    "# Задание\n",
    "1. Подготовьте данные для word2vec по одной из недавно прочитанных книг, удалив все символы, кроме букв и пробелов и обучите модель. Посмотрите результат.\n",
    "2. Для обучения на нефтяных скважин добавьте во входные данные информацию со столбцов Gas, Water (т.е. размер x_data будет (440, 12, 3)) и обучите новую модель. Выход содержит Liquid, Gas и Water (для дальнейшего предсказания). Графики с результатами только для Liquid.\n",
    "3. Из этого же текста возьмите небольшой фрагмент, разбейте на предложения с одинаковым числом символов. Каждый символ предложения закодируйте с помощью one hot encoding. В итоге у вас должен получиться массив размера (n_sentences, sentence_len, encoding_size).\n",
    "4. На полученных в п.3 задании обучение модель RNN для предсказания следующего символа. Посмотрите результат при последовательной генерации.\n",
    "5. \\* (не обязательное) На полученных в п.1 задании обучение модель RNN для предсказания следующего слова. Посмотрите результат при последовательной генерации."
   ]
  }
 ],
 "metadata": {
  "celltoolbar": "Slideshow",
  "kernelspec": {
   "display_name": "Python 3",
   "language": "python",
   "name": "python3"
  },
  "language_info": {
   "codemirror_mode": {
    "name": "ipython",
    "version": 3
   },
   "file_extension": ".py",
   "mimetype": "text/x-python",
   "name": "python",
   "nbconvert_exporter": "python",
   "pygments_lexer": "ipython3",
   "version": "3.6.5"
  }
 },
 "nbformat": 4,
 "nbformat_minor": 2
}
