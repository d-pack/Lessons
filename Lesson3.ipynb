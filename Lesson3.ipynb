{
 "cells": [
  {
   "cell_type": "markdown",
   "metadata": {
    "slideshow": {
     "slide_type": "slide"
    }
   },
   "source": [
    "# Введение в pandas и numpy"
   ]
  },
  {
   "cell_type": "markdown",
   "metadata": {
    "slideshow": {
     "slide_type": "slide"
    }
   },
   "source": [
    "# Создание массивов"
   ]
  },
  {
   "cell_type": "code",
   "execution_count": 1,
   "metadata": {},
   "outputs": [],
   "source": [
    "import numpy as np"
   ]
  },
  {
   "cell_type": "code",
   "execution_count": 2,
   "metadata": {},
   "outputs": [
    {
     "name": "stdout",
     "output_type": "stream",
     "text": [
      "[1 2 3]\n",
      "Тип: int64\n"
     ]
    }
   ],
   "source": [
    "# Из списка\n",
    "a = np.array([1, 2, 3])\n",
    "print(a)\n",
    "print('Тип:', a.dtype)"
   ]
  },
  {
   "cell_type": "code",
   "execution_count": 3,
   "metadata": {},
   "outputs": [
    {
     "name": "stdout",
     "output_type": "stream",
     "text": [
      "[1. 2. 3.]\n",
      "Тип: float64\n"
     ]
    }
   ],
   "source": [
    "# С определением типа\n",
    "a = np.array([1, 2, 3], dtype=float)\n",
    "print(a)\n",
    "print('Тип:', a.dtype)"
   ]
  },
  {
   "cell_type": "code",
   "execution_count": 4,
   "metadata": {
    "slideshow": {
     "slide_type": "subslide"
    }
   },
   "outputs": [
    {
     "name": "stdout",
     "output_type": "stream",
     "text": [
      "[[ 1  2]\n",
      " [ 3  4]\n",
      " [ 9 10]]\n",
      "Форма: (3, 2)\n",
      "Размер: 6\n"
     ]
    }
   ],
   "source": [
    "# Создание многомерного массива\n",
    "a = np.array([[1, 2], [3, 4], [9, 10]])\n",
    "print(a)\n",
    "print('Форма:', a.shape)\n",
    "print('Размер:', a.size)"
   ]
  },
  {
   "cell_type": "code",
   "execution_count": 5,
   "metadata": {
    "slideshow": {
     "slide_type": "-"
    }
   },
   "outputs": [
    {
     "name": "stdout",
     "output_type": "stream",
     "text": [
      "[list([1, 2, 5]) list([3, 4]) list([9, 10])]\n",
      "\n",
      "[[ 1.+0.j  1.+2.j]\n",
      " [ 3.+0.j  4.+0.j]\n",
      " [ 9.+0.j 10.+0.j]]\n",
      "\n",
      "[['1' '2']\n",
      " ['3' '4']\n",
      " ['9' '10']]\n"
     ]
    }
   ],
   "source": [
    "# При разной размерности списков создаётся массив из списков\n",
    "b = np.array([[1, 2, 5], [3, 4], [9, 10]])\n",
    "print(b)\n",
    "print()\n",
    "# При разных типах элементов списков данные приводятся к общему типу\n",
    "b = np.array([[1, 1+2j], [3, 4], [9, 10]])\n",
    "print(b)\n",
    "print()\n",
    "b = np.array([[1, '2'], [3, 4], [9, 10]])\n",
    "print(b)"
   ]
  },
  {
   "cell_type": "code",
   "execution_count": 6,
   "metadata": {
    "slideshow": {
     "slide_type": "subslide"
    }
   },
   "outputs": [
    {
     "name": "stdout",
     "output_type": "stream",
     "text": [
      "[[0. 2. 0.]\n",
      " [0. 0. 0.]]\n",
      "\n",
      "[[0. 0. 0.]\n",
      " [0. 0. 0.]]\n",
      "\n",
      "[1 2 3 4 5 6 7 8 9]\n"
     ]
    }
   ],
   "source": [
    "# Создание пустого массива (только выделяется память)\n",
    "a = np.empty((2, 3))\n",
    "print(a)\n",
    "print()\n",
    "# Создание массива из нулей\n",
    "a = np.zeros((2, 3))\n",
    "print(a)\n",
    "print()\n",
    "# Создание массива из ряда чисел\n",
    "a = np.arange(1, 10)\n",
    "print(a)"
   ]
  },
  {
   "cell_type": "code",
   "execution_count": 7,
   "metadata": {},
   "outputs": [
    {
     "name": "stdout",
     "output_type": "stream",
     "text": [
      "[[0. 3.]\n",
      " [2. 5.]\n",
      " [4. 7.]]\n"
     ]
    }
   ],
   "source": [
    "# Задание из функции\n",
    "def fun(x, y):\n",
    "    return x * 2 + y * 3\n",
    "\n",
    "a = np.fromfunction(fun, (3, 2))\n",
    "print(a)"
   ]
  },
  {
   "cell_type": "code",
   "execution_count": 8,
   "metadata": {
    "slideshow": {
     "slide_type": "subslide"
    }
   },
   "outputs": [
    {
     "name": "stdout",
     "output_type": "stream",
     "text": [
      "a: [1 2 3] b: [1 2 3]\n",
      "\n",
      "Без копирования\n",
      "a: [1 5 3] b: [1 5 3]\n",
      "\n",
      "С копированием\n",
      "a: [1 5 7] b: [1 5 3]\n"
     ]
    }
   ],
   "source": [
    "# Переменные в Python представляют собой указатели, \n",
    "# потому для копирования массивов необходимо указывать это явно с помощью метода copy()\n",
    "a = np.array([1, 2, 3])\n",
    "b = a\n",
    "print('a:', a, 'b:', b)\n",
    "a[1] = 5\n",
    "print()\n",
    "print('Без копирования')\n",
    "print('a:', a, 'b:', b)\n",
    "b = a.copy()\n",
    "a[2] = 7\n",
    "print()\n",
    "print('С копированием')\n",
    "print('a:', a, 'b:', b)"
   ]
  },
  {
   "cell_type": "markdown",
   "metadata": {
    "slideshow": {
     "slide_type": "slide"
    }
   },
   "source": [
    "# Основные операции\n",
    "Операции, такие как сложение, умножение, и т.п. являются поэлементными. Возможны операции массива и числа"
   ]
  },
  {
   "cell_type": "code",
   "execution_count": 9,
   "metadata": {},
   "outputs": [
    {
     "name": "stdout",
     "output_type": "stream",
     "text": [
      "[0 1 2 3 4] [15 14 13 12 11]\n",
      "\n",
      "[15 15 15 15 15]\n",
      "[ 0 14 26 36 44]\n",
      "[    1    14   169  1728 14641]\n",
      "\n",
      "[0.   0.25 0.5  0.75 1.  ]\n",
      "[30 28 26 24 22]\n"
     ]
    }
   ],
   "source": [
    "a = np.arange(5)\n",
    "b = np.arange(15, 10, -1)\n",
    "print(a, b)\n",
    "print()\n",
    "print(a + b)\n",
    "print(a * b)\n",
    "print(b ** a)\n",
    "print()\n",
    "print(a / 4)\n",
    "print(b * 2)"
   ]
  },
  {
   "cell_type": "markdown",
   "metadata": {
    "slideshow": {
     "slide_type": "subslide"
    }
   },
   "source": [
    "### Индексация"
   ]
  },
  {
   "cell_type": "code",
   "execution_count": 10,
   "metadata": {
    "slideshow": {
     "slide_type": "-"
    }
   },
   "outputs": [
    {
     "name": "stdout",
     "output_type": "stream",
     "text": [
      "c:\n",
      " [['a' 'b']\n",
      " ['c' 'd']]\n",
      "d: [ 1  4  9 16 25]\n"
     ]
    }
   ],
   "source": [
    "c = np.array([['a', 'b'], \n",
    "              ['c', 'd']])\n",
    "d = np.arange(1, 6) ** 2\n",
    "print('c:\\n', c)\n",
    "print('d:', d)"
   ]
  },
  {
   "cell_type": "code",
   "execution_count": 11,
   "metadata": {},
   "outputs": [
    {
     "name": "stdout",
     "output_type": "stream",
     "text": [
      "[ 4 16]\n",
      "[ 4 16]\n"
     ]
    }
   ],
   "source": [
    "# Массив индексов\n",
    "print(d[[1, 3]])\n",
    "# Массив логических значений\n",
    "print(d[[False, True, False, True, False]])"
   ]
  },
  {
   "cell_type": "code",
   "execution_count": 12,
   "metadata": {},
   "outputs": [
    {
     "name": "stdout",
     "output_type": "stream",
     "text": [
      "(1, 0): c\n",
      "(:, 0): ['a' 'c']\n",
      "(1, :): ['c' 'd']\n"
     ]
    }
   ],
   "source": [
    "# Индексация по нескольким измерениям\n",
    "print('(1, 0):', c[1, 0])\n",
    "print('(:, 0):', c[:, 0])\n",
    "print('(1, :):', c[1])"
   ]
  },
  {
   "cell_type": "code",
   "execution_count": 13,
   "metadata": {
    "slideshow": {
     "slide_type": "subslide"
    }
   },
   "outputs": [
    {
     "name": "stdout",
     "output_type": "stream",
     "text": [
      "Максимум, минимум: 0 4\n",
      "Среднее, среднеквадратичное отклонение: 2.0 1.4142135623730951\n",
      "Сумма элементов: 10\n",
      "Медиана: 2.0\n"
     ]
    }
   ],
   "source": [
    "### Вычисление статистических параметров\n",
    "# Максимум, минимум\n",
    "print('Максимум, минимум:',a.min(), a.max())\n",
    "# Среднее, среднеквадратичное отклонение\n",
    "print('Среднее, среднеквадратичное отклонение:', a.mean(), a.std())\n",
    "# Сумма элементов\n",
    "print('Сумма элементов:', a.sum())\n",
    "# Медиана\n",
    "print('Медиана:', np.median(a))"
   ]
  },
  {
   "cell_type": "code",
   "execution_count": 14,
   "metadata": {
    "slideshow": {
     "slide_type": "subslide"
    }
   },
   "outputs": [
    {
     "name": "stdout",
     "output_type": "stream",
     "text": [
      "[       inf 1.         0.5        0.33333333 0.25      ]\n",
      "\n",
      "[nan  0.  0.  0.  0.]\n",
      "\n",
      "[1.57079633 0.                nan        nan        nan]\n"
     ]
    },
    {
     "name": "stderr",
     "output_type": "stream",
     "text": [
      "/usr/local/lib/python3.5/dist-packages/ipykernel_launcher.py:2: RuntimeWarning: divide by zero encountered in true_divide\n",
      "  \n",
      "/usr/local/lib/python3.5/dist-packages/ipykernel_launcher.py:6: RuntimeWarning: invalid value encountered in subtract\n",
      "  \n",
      "/usr/local/lib/python3.5/dist-packages/ipykernel_launcher.py:9: RuntimeWarning: invalid value encountered in arccos\n",
      "  if __name__ == '__main__':\n"
     ]
    }
   ],
   "source": [
    "# В numpy для вещественных чисел добавлены значения nan, inf для обозначения неопределённостей и бесконечностей\n",
    "c = 1 / a # Возникает Warning (предупреждение) о делении на 0 (первый символ массива)\n",
    "print(c)\n",
    "print()\n",
    "# Добавим неопределённость бесконечность - бесконечность\n",
    "print(c - c)\n",
    "print()\n",
    "# Или найдём arccos отчисла больше 1\n",
    "print(np.arccos(a))"
   ]
  },
  {
   "cell_type": "markdown",
   "metadata": {
    "slideshow": {
     "slide_type": "slide"
    }
   },
   "source": [
    "# Операции с формой"
   ]
  },
  {
   "cell_type": "code",
   "execution_count": 15,
   "metadata": {},
   "outputs": [
    {
     "name": "stdout",
     "output_type": "stream",
     "text": [
      "[ 0  1  2  3  4  5  6  7  8  9 10 11 12 13 14 15 16 17 18 19 20 21 22 23]\n",
      "\n",
      "[[[ 0  1  2  3]\n",
      "  [ 4  5  6  7]\n",
      "  [ 8  9 10 11]]\n",
      "\n",
      " [[12 13 14 15]\n",
      "  [16 17 18 19]\n",
      "  [20 21 22 23]]]\n",
      "(2, 3, 4)\n",
      "\n",
      "[ 0  1  2  3  4  5  6  7  8  9 10 11 12 13 14 15 16 17 18 19 20 21 22 23]\n"
     ]
    }
   ],
   "source": [
    "a = np.arange(24)\n",
    "print(a)\n",
    "print()\n",
    "# Метод reshape() позволяет изменить форму массива, не меняя содержимого\n",
    "# Значение -1 означает, что заполняется по остаточному принципу\n",
    "b = a.reshape(-1, 3, 4)\n",
    "print(b)\n",
    "print(b.shape)\n",
    "print()\n",
    "# Метод ravel() приводит массив в одномерный вектор \n",
    "print(b.ravel())"
   ]
  },
  {
   "cell_type": "code",
   "execution_count": 16,
   "metadata": {
    "slideshow": {
     "slide_type": "subslide"
    }
   },
   "outputs": [
    {
     "name": "stdout",
     "output_type": "stream",
     "text": [
      "[[[ 0  4  8]\n",
      "  [12 16 20]]\n",
      "\n",
      " [[ 1  5  9]\n",
      "  [13 17 21]]\n",
      "\n",
      " [[ 2  6 10]\n",
      "  [14 18 22]]\n",
      "\n",
      " [[ 3  7 11]\n",
      "  [15 19 23]]]\n",
      "(4, 2, 3)\n"
     ]
    }
   ],
   "source": [
    "# Метод transpose() позволяет транспонировать массив (в указанную последовательность осей)\n",
    "c = b.transpose((2, 0, 1))\n",
    "print(c)\n",
    "print(c.shape)"
   ]
  },
  {
   "cell_type": "code",
   "execution_count": 17,
   "metadata": {
    "slideshow": {
     "slide_type": "subslide"
    }
   },
   "outputs": [
    {
     "name": "stdout",
     "output_type": "stream",
     "text": [
      "a: [[0 1 2]\n",
      " [3 4 5]]\n",
      "b: [[10 11 12]\n",
      " [13 14 15]]\n",
      "\n",
      "[[ 0  1  2]\n",
      " [ 3  4  5]\n",
      " [10 11 12]\n",
      " [13 14 15]]\n",
      "\n",
      "Shape: (4, 3)\n",
      "\n",
      "[[ 0  1  2 10 11 12]\n",
      " [ 3  4  5 13 14 15]]\n",
      "\n",
      "Shape: (2, 6)\n"
     ]
    }
   ],
   "source": [
    "a = np.arange(6).reshape((2, 3))\n",
    "b = np.arange(10, 16).reshape((2, 3))\n",
    "print('a:', a)\n",
    "print('b:', b)\n",
    "print()\n",
    "# concatenate() объединяет массивы вдоль существующей оси\n",
    "c = np.concatenate((a, b))\n",
    "print(c)\n",
    "print()\n",
    "print('Shape:', c.shape)\n",
    "print()\n",
    "\n",
    "c = np.concatenate((a, b), axis=-1)\n",
    "print(c)\n",
    "print()\n",
    "print('Shape:', c.shape)"
   ]
  },
  {
   "cell_type": "code",
   "execution_count": 18,
   "metadata": {
    "slideshow": {
     "slide_type": "subslide"
    }
   },
   "outputs": [
    {
     "name": "stdout",
     "output_type": "stream",
     "text": [
      "[[[ 0  1  2]\n",
      "  [ 3  4  5]]\n",
      "\n",
      " [[10 11 12]\n",
      "  [13 14 15]]]\n",
      "\n",
      "Shape: (2, 2, 3)\n",
      "[ 0 10]\n",
      "\n",
      "[[[ 0 10]\n",
      "  [ 1 11]\n",
      "  [ 2 12]]\n",
      "\n",
      " [[ 3 13]\n",
      "  [ 4 14]\n",
      "  [ 5 15]]]\n",
      "\n",
      "Shape: (2, 3, 2)\n",
      "[ 0 10]\n"
     ]
    }
   ],
   "source": [
    "# stack() объединяет массивы вдоль новой оси\n",
    "c = np.stack((a, b))\n",
    "print(c)\n",
    "print()\n",
    "print('Shape:', c.shape)\n",
    "print(c[:, 0, 0])\n",
    "print()\n",
    "\n",
    "c = np.stack((a, b), axis=-1)\n",
    "print(c)\n",
    "print()\n",
    "print('Shape:', c.shape)\n",
    "print(c[0, 0, :])"
   ]
  },
  {
   "cell_type": "markdown",
   "metadata": {
    "slideshow": {
     "slide_type": "slide"
    }
   },
   "source": [
    "# Математические операции\n",
    "В numpy существует множество функций, работающих по аналогии с функциями модулей math и random, но со всеми элементами массива"
   ]
  },
  {
   "cell_type": "code",
   "execution_count": 19,
   "metadata": {},
   "outputs": [
    {
     "name": "stdout",
     "output_type": "stream",
     "text": [
      "sin: [ 0.          0.84147098  0.90929743  0.14112001 -0.7568025 ]\n",
      "cos: [ 1. -1.  1. -1.  1.]\n",
      "корень: [0.         1.         1.41421356 1.73205081 2.        ]\n"
     ]
    }
   ],
   "source": [
    "a = np.arange(5)\n",
    "# Математические функции\n",
    "print('sin:', np.sin(a))\n",
    "print('cos:', np.cos(a * np.pi))\n",
    "print('корень:', np.sqrt(a))"
   ]
  },
  {
   "cell_type": "code",
   "execution_count": 20,
   "metadata": {
    "slideshow": {
     "slide_type": "subslide"
    }
   },
   "outputs": [
    {
     "name": "stdout",
     "output_type": "stream",
     "text": [
      "[[3 1 1 1 5]\n",
      " [3 4 7 0 0]]\n",
      "\n",
      "[[0.95143723 0.22385087 0.4292714  0.98347564 0.18905183]\n",
      " [0.85687288 0.72104609 0.08594073 0.72326151 0.36961344]]\n",
      "\n",
      "[4 4 0 4 0 3 3 0 2 2]\n",
      "\n",
      "[3 2 0 1 4]\n"
     ]
    }
   ],
   "source": [
    "## Функции для работы со случайными числами\n",
    "# Инициализация генератора случайных чисел\n",
    "np.random.seed(18182)\n",
    "# Случайные целые числа\n",
    "print(np.random.randint(10, size=(2, 5)))\n",
    "print()\n",
    "# Случайные числа от 0 до 1\n",
    "print(np.random.rand(2, 5))\n",
    "print()\n",
    "# Получение случайных чисел из массива\n",
    "a = np.arange(5)\n",
    "print(np.random.choice(a, 10))\n",
    "print()\n",
    "# Перемешивание массива (перемешивает исходный массив, возвращает None!)\n",
    "np.random.shuffle(a)\n",
    "print(a)"
   ]
  },
  {
   "cell_type": "markdown",
   "metadata": {
    "slideshow": {
     "slide_type": "slide"
    }
   },
   "source": [
    "# Операции с логическими переменными"
   ]
  },
  {
   "cell_type": "code",
   "execution_count": 21,
   "metadata": {},
   "outputs": [
    {
     "name": "stdout",
     "output_type": "stream",
     "text": [
      "[-2 -4 -4 -4  0] [-2 -1  2 -5 -5]\n",
      "[ True False False False  True]\n",
      "[ True  True  True False False]\n"
     ]
    }
   ],
   "source": [
    "np.random.seed(18182)\n",
    "a = np.random.randint(-5, 5, size=5)\n",
    "b = np.random.randint(-5, 5, size=5)\n",
    "print(a, b)\n",
    "a_bool = a > -3\n",
    "b_bool = b >= a\n",
    "print(a_bool)\n",
    "print(b_bool)"
   ]
  },
  {
   "cell_type": "code",
   "execution_count": 22,
   "metadata": {
    "slideshow": {
     "slide_type": "subslide"
    }
   },
   "outputs": [
    {
     "name": "stdout",
     "output_type": "stream",
     "text": [
      "Логическое И: [ True False False False False]\n",
      "Логическое ИЛИ: [ True  True  True False  True]\n",
      "Логическое НЕ: [False  True  True  True False]\n",
      "Исключающее ИЛИ: [False  True  True False  True]\n",
      "\n",
      "Логическое И: [ True False False False False]\n",
      "Логическое ИЛИ: [ True  True  True False  True]\n",
      "Логическое НЕ: [False  True  True  True False]\n",
      "Логическое И: [False  True  True False  True]\n"
     ]
    }
   ],
   "source": [
    "# Логическое И\n",
    "print('Логическое И:', np.logical_and(a_bool, b_bool))\n",
    "# Логическое ИЛИ\n",
    "print('Логическое ИЛИ:', np.logical_or(a_bool, b_bool))\n",
    "# Логическое НЕ\n",
    "print('Логическое НЕ:', np.logical_not(a_bool))\n",
    "# Исключающее ИЛИ\n",
    "print('Исключающее ИЛИ:', np.logical_xor(a_bool, b_bool))\n",
    "print()\n",
    "# Другой вариант, с помощью битовых операций\n",
    "print('Логическое И:', a_bool & b_bool)\n",
    "print('Логическое ИЛИ:', a_bool | b_bool)\n",
    "print('Логическое НЕ:', ~a_bool)\n",
    "print('Логическое И:', a_bool ^ b_bool)"
   ]
  },
  {
   "cell_type": "markdown",
   "metadata": {
    "slideshow": {
     "slide_type": "slide"
    }
   },
   "source": [
    "# Операции со строками"
   ]
  },
  {
   "cell_type": "code",
   "execution_count": 23,
   "metadata": {},
   "outputs": [
    {
     "name": "stdout",
     "output_type": "stream",
     "text": [
      "['Раз' 'два' 'три' 'четые']\n",
      "['One' 'two' 'three' 'four']\n"
     ]
    }
   ],
   "source": [
    "a = np.array('Раз два три четые'.split(' '))\n",
    "b = np.array('One two three four'.split(' '))\n",
    "print(a)\n",
    "print(b)"
   ]
  },
  {
   "cell_type": "code",
   "execution_count": 24,
   "metadata": {},
   "outputs": [
    {
     "name": "stdout",
     "output_type": "stream",
     "text": [
      "['РазOne' 'дваtwo' 'триthree' 'четыеfour']\n",
      "['Раз_' 'два_' 'три_' 'четые_']\n"
     ]
    }
   ],
   "source": [
    "# Конкатенация\n",
    "print(np.char.add(a, b))\n",
    "print(np.char.add(a, '_'))"
   ]
  },
  {
   "cell_type": "code",
   "execution_count": 25,
   "metadata": {},
   "outputs": [
    {
     "name": "stdout",
     "output_type": "stream",
     "text": [
      "['Раз' 'Два' 'Три' 'Четые']\n",
      "['РАЗ' 'ДВА' 'ТРИ' 'ЧЕТЫЕ']\n",
      "['раз' 'два' 'три' 'четые']\n"
     ]
    }
   ],
   "source": [
    "# Каждая строка с заглавной буквы\n",
    "print(np.char.capitalize(a))\n",
    "# Перевод в верхний регистр\n",
    "print(np.char.upper(a))\n",
    "# Перевод в нижний регистр\n",
    "print(np.char.lower(a))"
   ]
  },
  {
   "cell_type": "markdown",
   "metadata": {
    "slideshow": {
     "slide_type": "subslide"
    }
   },
   "source": [
    "### Информация о строках"
   ]
  },
  {
   "cell_type": "code",
   "execution_count": 26,
   "metadata": {},
   "outputs": [
    {
     "name": "stdout",
     "output_type": "stream",
     "text": [
      "[False  True  True False False False]\n",
      "[ True False  True False False False]\n"
     ]
    }
   ],
   "source": [
    "st = np.array(['One', 'two', 'three', 'four', '12', '-14'])\n",
    "# Проверка начала строки\n",
    "print(np.char.startswith(st, 't'))\n",
    "# Проверка окончания строки\n",
    "print(np.char.endswith(st, 'e'))"
   ]
  },
  {
   "cell_type": "code",
   "execution_count": 27,
   "metadata": {},
   "outputs": [
    {
     "name": "stdout",
     "output_type": "stream",
     "text": [
      "[1 0 2 0 0 0]\n",
      "[False False False False  True False]\n"
     ]
    }
   ],
   "source": [
    "# Подсчет подстрок\n",
    "print(np.char.count(st, 'e'))\n",
    "# Строки, состоящие только из чисел\n",
    "print(np.char.isdigit(st))"
   ]
  },
  {
   "cell_type": "markdown",
   "metadata": {
    "slideshow": {
     "slide_type": "slide"
    }
   },
   "source": [
    "# Операции с матрицами"
   ]
  },
  {
   "cell_type": "code",
   "execution_count": 28,
   "metadata": {},
   "outputs": [
    {
     "name": "stdout",
     "output_type": "stream",
     "text": [
      "5\n"
     ]
    }
   ],
   "source": [
    "# Функция dot возвращает скалярное произведение векторов:\n",
    "a = np.array([1, 2, 3])\n",
    "b = np.array([0, 1, 1])\n",
    "print(np.dot(a, b))"
   ]
  },
  {
   "cell_type": "code",
   "execution_count": 29,
   "metadata": {},
   "outputs": [
    {
     "name": "stdout",
     "output_type": "stream",
     "text": [
      "[ 3 13]\n",
      "\n",
      "[[ 4  0]\n",
      " [14  2]]\n"
     ]
    }
   ],
   "source": [
    "# Функция dot также может умножать матрицы:\n",
    "a = np.array([[0, 1], \n",
    "              [2, 3]])\n",
    "b = np.array([2, 3])\n",
    "c = np.array([[1, 1], \n",
    "              [4, 0]])\n",
    "print(np.dot(a, b))\n",
    "print()\n",
    "print(np.dot(a, c))"
   ]
  },
  {
   "cell_type": "code",
   "execution_count": 30,
   "metadata": {
    "slideshow": {
     "slide_type": "subslide"
    }
   },
   "outputs": [
    {
     "name": "stdout",
     "output_type": "stream",
     "text": [
      "[[2 2 1]\n",
      " [8 8 4]\n",
      " [0 0 0]]\n",
      "\n",
      "10\n",
      "\n",
      "[ 4 -1 -6]\n"
     ]
    }
   ],
   "source": [
    "# Также можно получить скалярное, тензорное и внешнее произведение матриц и векторов.\n",
    "a = np.array([1, 4, 0])\n",
    "b = np.array([2, 2, 1])\n",
    "print(np.outer(a, b))\n",
    "print()\n",
    "print(np.inner(a, b))\n",
    "print()\n",
    "print(np.cross(a, b))"
   ]
  },
  {
   "cell_type": "markdown",
   "metadata": {
    "slideshow": {
     "slide_type": "slide"
    }
   },
   "source": [
    "# Линейная алгебра"
   ]
  },
  {
   "cell_type": "code",
   "execution_count": 31,
   "metadata": {},
   "outputs": [
    {
     "name": "stdout",
     "output_type": "stream",
     "text": [
      "[[ 2  3]\n",
      " [ 6 11]]\n",
      "\n",
      "q: [[ 0. -1.]\n",
      " [-1.  0.]]\n",
      "r: [[-2. -3.]\n",
      " [ 0. -1.]]\n",
      "\n",
      "-2.0\n",
      "[[-1.5  0.5]\n",
      " [ 1.   0. ]]\n"
     ]
    }
   ],
   "source": [
    "a = np.array([[0, 1], \n",
    "              [2, 3]])\n",
    "# Возведение в степень\n",
    "print(np.linalg.matrix_power(a, 2))\n",
    "print()\n",
    "# QR разложение\n",
    "q, r = np.linalg.qr(a)\n",
    "print('q:', q)\n",
    "print('r:', r)\n",
    "print()\n",
    "# Определитель\n",
    "print(np.linalg.det(a))\n",
    "# Обратная матрица\n",
    "print(np.linalg.inv(a))"
   ]
  },
  {
   "cell_type": "code",
   "execution_count": 32,
   "metadata": {
    "slideshow": {
     "slide_type": "subslide"
    }
   },
   "outputs": [
    {
     "name": "stdout",
     "output_type": "stream",
     "text": [
      "[-2.  3.]\n"
     ]
    }
   ],
   "source": [
    "# Решение системы линейных уравнений Ax = b\n",
    "a = np.array([[0, 1], \n",
    "              [2, 3]])\n",
    "b = np.array([3, 5])\n",
    "print(np.linalg.solve(a, b))"
   ]
  },
  {
   "cell_type": "markdown",
   "metadata": {
    "slideshow": {
     "slide_type": "slide"
    }
   },
   "source": [
    "# Другие функции функции"
   ]
  },
  {
   "cell_type": "code",
   "execution_count": 42,
   "metadata": {},
   "outputs": [
    {
     "name": "stdout",
     "output_type": "stream",
     "text": [
      "Исходный:\n",
      " [[2 3 3]\n",
      " [4 1 1]]\n",
      "\n",
      "Axis 0\n",
      " [[2 3 3]\n",
      " [6 4 4]]\n",
      "Axis 1\n",
      " [[2 5 8]\n",
      " [4 5 6]]\n"
     ]
    }
   ],
   "source": [
    "# Использование функции вдоль заданной оси\n",
    "def fun(arr):\n",
    "    return arr.cumsum()\n",
    "\n",
    "np.random.seed(18182)\n",
    "a = np.random.randint(5, size=(2, 3))\n",
    "\n",
    "print('Исходный:\\n', a)\n",
    "print()\n",
    "print('Axis 0\\n', np.apply_along_axis(fun, 0, a))\n",
    "print('Axis 1\\n', np.apply_along_axis(fun, 1, a))"
   ]
  },
  {
   "cell_type": "code",
   "execution_count": 44,
   "metadata": {},
   "outputs": [
    {
     "name": "stdout",
     "output_type": "stream",
     "text": [
      "Исходный: [2 3 3 4 1 1 1 3 4 2]\n",
      "Уникальные значения [1 2 3 4]\n",
      "Уникальные значения и их частота (array([1, 2, 3, 4]), array([3, 2, 3, 2]))\n"
     ]
    }
   ],
   "source": [
    "# Поиск уникальных значений\n",
    "np.random.seed(18182)\n",
    "a = np.random.randint(5, size=10)\n",
    "print('Исходный:', a)\n",
    "print('Уникальные значения', np.unique(a))\n",
    "print('Уникальные значения и их частота', np.unique(a, return_counts=True))"
   ]
  },
  {
   "cell_type": "code",
   "execution_count": 47,
   "metadata": {},
   "outputs": [
    {
     "name": "stdout",
     "output_type": "stream",
     "text": [
      "4 3\n",
      "[4 5 6 0 9 1 2 7 3 8]\n"
     ]
    }
   ],
   "source": [
    "# Получение индексов массива\n",
    "print(a.max(), a.argmax())\n",
    "print(a.argsort())"
   ]
  },
  {
   "cell_type": "code",
   "execution_count": 54,
   "metadata": {},
   "outputs": [
    {
     "name": "stdout",
     "output_type": "stream",
     "text": [
      "Исходный:\n",
      " [[2 3 3]\n",
      " [4 1 1]]\n",
      "(array([0, 0, 1]), array([1, 2, 0]))\n"
     ]
    }
   ],
   "source": [
    "# Поиск индексов по условию\n",
    "np.random.seed(18182)\n",
    "b = np.random.randint(5, size=(2, 3))\n",
    "print('Исходный:\\n', b)\n",
    "print(np.where(b > 2))"
   ]
  },
  {
   "cell_type": "markdown",
   "metadata": {
    "slideshow": {
     "slide_type": "slide"
    }
   },
   "source": [
    "# Задачи\n",
    "1. Отсортировать значения массива по частоте встречания.\n",
    "2. Дана картинка высоты h, ширины w, тип данных np.uint8 (от 0 до 255). Найти количество уникальных цветов.\n",
    "3. Написать функцию, вычислающую плавающее среднее вектора\n",
    "4. Дана матрица (n, 3). Вывести те тройки чисел, которые являются длинами сторон треугольника."
   ]
  }
 ],
 "metadata": {
  "celltoolbar": "Slideshow",
  "kernelspec": {
   "display_name": "Python 3",
   "language": "python",
   "name": "python3"
  },
  "language_info": {
   "codemirror_mode": {
    "name": "ipython",
    "version": 3
   },
   "file_extension": ".py",
   "mimetype": "text/x-python",
   "name": "python",
   "nbconvert_exporter": "python",
   "pygments_lexer": "ipython3",
   "version": "3.5.2"
  }
 },
 "nbformat": 4,
 "nbformat_minor": 2
}
